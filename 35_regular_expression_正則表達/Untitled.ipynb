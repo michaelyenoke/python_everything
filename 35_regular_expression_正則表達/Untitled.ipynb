{
 "cells": [
  {
   "cell_type": "code",
   "execution_count": null,
   "metadata": {},
   "outputs": [],
   "source": [
    "import pandas as pd\n",
    "sp_fa_df = pd.read_csv('national_sport_facilities.csv')\n",
    "sp_fa_df_add = sp_fa_df['所在地址']\n",
    "#print(sp_fa_df.to_string()) \n",
    "#sp_fa_df_add.head(5)\n",
    "print(type(sp_fa_df_add))\n",
    "\n",
    "\n",
    "####\n",
    "\n",
    "with open('national_sport_facilities.csv', 'r', encoding=\"utf8\", errors='ignore') as f:\n",
    "    sample_corpus = f.read()\n",
    "\n",
    "import re\n",
    "\n",
    "pattern = r'[新北市新店區]'\n",
    "match = re.findall(pattern, sample_corpus)\n",
    "\n",
    "match"
   ]
  },
  {
   "cell_type": "code",
   "execution_count": null,
   "metadata": {},
   "outputs": [],
   "source": [
    "https://regex101.com/"
   ]
  }
 ],
 "metadata": {
  "kernelspec": {
   "display_name": "Python 3",
   "language": "python",
   "name": "python3"
  },
  "language_info": {
   "codemirror_mode": {
    "name": "ipython",
    "version": 3
   },
   "file_extension": ".py",
   "mimetype": "text/x-python",
   "name": "python",
   "nbconvert_exporter": "python",
   "pygments_lexer": "ipython3",
   "version": "3.7.4"
  }
 },
 "nbformat": 4,
 "nbformat_minor": 2
}
