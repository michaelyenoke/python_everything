{
 "cells": [
  {
   "cell_type": "code",
   "execution_count": 6,
   "metadata": {},
   "outputs": [],
   "source": [
    "# 第一步：Python爬取資料 - 超過 google 查詢上限的方法\n",
    "\n",
    "from pytrends.request import TrendReq\n",
    "from pprint import pprint\n",
    "from time import sleep\n",
    "from datetime import datetime # import datetime classs from datetime module\n",
    "import pandas as pd\n",
    "import numpy as np\n",
    "import json\n",
    "import csv\n",
    "\n",
    "\n",
    "dt_3 = []\n",
    "\n",
    "#  ,'獨輪車','登山車','火車','梨泰院','新冠','新垣結衣'\n",
    "data = ['陳時中','環島','獨輪車','登山車','火車','梨泰院','新冠','新垣結衣']\n",
    "#有些詞彙沒有搜尋熱度 - 暫不處理 '男性自行車','武漢肺炎','女性自行車','男性自行車'\n",
    "#print(len(data)-1)\n",
    "pList = []\n",
    "\n",
    "\n",
    "for keywords in data:\n",
    "    #print(keywords)\n",
    "    keywords_list = [keywords]\n",
    "    pytrend = TrendReq(hl='en-US', tz=360)\n",
    "    pytrend.build_payload(keywords_list, cat=0, timeframe='today 5-y', geo='TW', gprop='')\n",
    "    interest_over_time_df = pytrend.interest_over_time()[keywords]\n",
    "    pList.append(interest_over_time_df)\n",
    "    \n",
    "    \n",
    "#print(type(pList))\n",
    "pList_df = pd.DataFrame(pList)\n",
    "\n",
    "\n",
    "# 欄與列的整理\n",
    "df3 = pList_df.stack(0)\n",
    "df4 = df3.unstack(0)\n",
    "\n",
    "\n",
    "# 將index.name的date改成column\n",
    "df4.reset_index(inplace=True)\n",
    "#print(df4)\n",
    "#print(type(df4))\n"
   ]
  },
  {
   "cell_type": "code",
   "execution_count": 7,
   "metadata": {},
   "outputs": [
    {
     "name": "stdout",
     "output_type": "stream",
     "text": [
      "2015,Mar\n",
      "<class 'str'>\n"
     ]
    }
   ],
   "source": [
    "# 將日期單獨抽離出來並從 timeframe - datetime - string\n",
    "\n",
    "d = []\n",
    "\n",
    "# 將日期單獨抽離出來,格式 timeframe\n",
    "df4_date = df4['date']\n",
    "#print(df4_date[0])\n",
    "#print(type(df4_date[0]))\n",
    "\n",
    "for i in range(0,len(df4)):\n",
    "    # 將timeframe 轉換成 datetime\n",
    "    date_time_obj = datetime.strptime(str(df4_date[i]), '%Y-%m-%d %H:%M:%S') \n",
    "    #print(date_time_obj)\n",
    "    #print(type(date_time_obj))\n",
    "    # 將 datetime 轉換成 string, 並拆開\n",
    "    d.append(date_time_obj.strftime(\"%Y,%b\").split())\n",
    "    #print(type(d))\n",
    "\n",
    "#print(d)\n",
    "print(d[0][0])\n",
    "print(type(d[0][0]))\n"
   ]
  },
  {
   "cell_type": "code",
   "execution_count": 29,
   "metadata": {},
   "outputs": [
    {
     "name": "stdout",
     "output_type": "stream",
     "text": [
      "['2015', '2015', '2015', '2015', '2015', '2015', '2015', '2015', '2015', '2015', '2015', '2015', '2015', '2015', '2015', '2015', '2015', '2015', '2015', '2015', '2015', '2015', '2015', '2015', '2015', '2015', '2015', '2015', '2015', '2015', '2015', '2015', '2015', '2015', '2015', '2015', '2015', '2015', '2015', '2015', '2016', '2016', '2016', '2016', '2016', '2016', '2016', '2016', '2016', '2016', '2016', '2016', '2016', '2016', '2016', '2016', '2016', '2016', '2016', '2016', '2016', '2016', '2016', '2016', '2016', '2016', '2016', '2016', '2016', '2016', '2016', '2016', '2016', '2016', '2016', '2016', '2016', '2016', '2016', '2016', '2016', '2016', '2016', '2016', '2016', '2016', '2016', '2016', '2016', '2016', '2016', '2016', '2017', '2017', '2017', '2017', '2017', '2017', '2017', '2017', '2017', '2017', '2017', '2017', '2017', '2017', '2017', '2017', '2017', '2017', '2017', '2017', '2017', '2017', '2017', '2017', '2017', '2017', '2017', '2017', '2017', '2017', '2017', '2017', '2017', '2017', '2017', '2017', '2017', '2017', '2017', '2017', '2017', '2017', '2017', '2017', '2017', '2017', '2017', '2017', '2017', '2017', '2017', '2017', '2017', '2018', '2018', '2018', '2018', '2018', '2018', '2018', '2018', '2018', '2018', '2018', '2018', '2018', '2018', '2018', '2018', '2018', '2018', '2018', '2018', '2018', '2018', '2018', '2018', '2018', '2018', '2018', '2018', '2018', '2018', '2018', '2018', '2018', '2018', '2018', '2018', '2018', '2018', '2018', '2018', '2018', '2018', '2018', '2018', '2018', '2018', '2018', '2018', '2018', '2018', '2018', '2018', '2019', '2019', '2019', '2019', '2019', '2019', '2019', '2019', '2019', '2019', '2019', '2019', '2019', '2019', '2019', '2019', '2019', '2019', '2019', '2019', '2019', '2019', '2019', '2019', '2019', '2019', '2019', '2019', '2019', '2019', '2019', '2019', '2019', '2019', '2019', '2019', '2019', '2019', '2019', '2019', '2019', '2019', '2019', '2019', '2019', '2019', '2019', '2019', '2019', '2019', '2019', '2019', '2020', '2020', '2020', '2020', '2020', '2020', '2020', '2020', '2020', '2020', '2020', '2020']\n",
      "261\n",
      "['Mar', 'Apr', 'Apr', 'Apr', 'Apr', 'May', 'May', 'May', 'May', 'May', 'Jun', 'Jun', 'Jun', 'Jun', 'Jul', 'Jul', 'Jul', 'Jul', 'Aug', 'Aug', 'Aug', 'Aug', 'Aug', 'Sep', 'Sep', 'Sep', 'Sep', 'Oct', 'Oct', 'Oct', 'Oct', 'Nov', 'Nov', 'Nov', 'Nov', 'Nov', 'Dec', 'Dec', 'Dec', 'Dec', 'Jan', 'Jan', 'Jan', 'Jan', 'Jan', 'Feb', 'Feb', 'Feb', 'Feb', 'Mar', 'Mar', 'Mar', 'Mar', 'Apr', 'Apr', 'Apr', 'Apr', 'May', 'May', 'May', 'May', 'May', 'Jun', 'Jun', 'Jun', 'Jun', 'Jul', 'Jul', 'Jul', 'Jul', 'Jul', 'Aug', 'Aug', 'Aug', 'Aug', 'Sep', 'Sep', 'Sep', 'Sep', 'Oct', 'Oct', 'Oct', 'Oct', 'Oct', 'Nov', 'Nov', 'Nov', 'Nov', 'Dec', 'Dec', 'Dec', 'Dec', 'Jan', 'Jan', 'Jan', 'Jan', 'Jan', 'Feb', 'Feb', 'Feb', 'Feb', 'Mar', 'Mar', 'Mar', 'Mar', 'Apr', 'Apr', 'Apr', 'Apr', 'Apr', 'May', 'May', 'May', 'May', 'Jun', 'Jun', 'Jun', 'Jun', 'Jul', 'Jul', 'Jul', 'Jul', 'Jul', 'Aug', 'Aug', 'Aug', 'Aug', 'Sep', 'Sep', 'Sep', 'Sep', 'Oct', 'Oct', 'Oct', 'Oct', 'Oct', 'Nov', 'Nov', 'Nov', 'Nov', 'Dec', 'Dec', 'Dec', 'Dec', 'Dec', 'Jan', 'Jan', 'Jan', 'Jan', 'Feb', 'Feb', 'Feb', 'Feb', 'Mar', 'Mar', 'Mar', 'Mar', 'Apr', 'Apr', 'Apr', 'Apr', 'Apr', 'May', 'May', 'May', 'May', 'Jun', 'Jun', 'Jun', 'Jun', 'Jul', 'Jul', 'Jul', 'Jul', 'Jul', 'Aug', 'Aug', 'Aug', 'Aug', 'Sep', 'Sep', 'Sep', 'Sep', 'Sep', 'Oct', 'Oct', 'Oct', 'Oct', 'Nov', 'Nov', 'Nov', 'Nov', 'Dec', 'Dec', 'Dec', 'Dec', 'Dec', 'Jan', 'Jan', 'Jan', 'Jan', 'Feb', 'Feb', 'Feb', 'Feb', 'Mar', 'Mar', 'Mar', 'Mar', 'Mar', 'Apr', 'Apr', 'Apr', 'Apr', 'May', 'May', 'May', 'May', 'Jun', 'Jun', 'Jun', 'Jun', 'Jun', 'Jul', 'Jul', 'Jul', 'Jul', 'Aug', 'Aug', 'Aug', 'Aug', 'Sep', 'Sep', 'Sep', 'Sep', 'Sep', 'Oct', 'Oct', 'Oct', 'Oct', 'Nov', 'Nov', 'Nov', 'Nov', 'Dec', 'Dec', 'Dec', 'Dec', 'Dec', 'Jan', 'Jan', 'Jan', 'Jan', 'Feb', 'Feb', 'Feb', 'Feb', 'Mar', 'Mar', 'Mar', 'Mar']\n",
      "261\n"
     ]
    }
   ],
   "source": [
    "box_1 = []\n",
    "box_2 = []\n",
    "\n",
    "\n",
    "for j in range(0,len(d)):\n",
    "    d_sp = d[j][0].split(\",\",1)\n",
    "    d_sp_y = d_sp[0]\n",
    "    d_sp_m = d_sp[1]\n",
    "    box_1.append(d_sp_y)\n",
    "    box_2.append(d_sp_m)\n",
    "    #print(type(d_sp))\n",
    "\n",
    "\n",
    "print(box_1)\n",
    "print(len(box_1))    \n",
    "print(box_2)\n",
    "print(len(box_2))\n",
    "      "
   ]
  },
  {
   "cell_type": "code",
   "execution_count": null,
   "metadata": {},
   "outputs": [],
   "source": [
    "#timestampStr = df4_date.to_string()\n",
    "#print(timestampStr.iloc[1])\n",
    "#timestamplist = list(timestampStr.split())\n",
    "#print(timestamplist)\n",
    "\n",
    "\n",
    "#for i in range(0,len(df4_date)):\n",
    "    #dt_1 = timestampStr[0:4]\n",
    "    #print(len(dt_1))\n",
    "    #dt_2 = timestampStr[i][5:7].split()\n",
    "    #dt_3.append(dt_1+dt_2)\n",
    "\n",
    "    \n",
    "#print(dt_3)"
   ]
  },
  {
   "cell_type": "code",
   "execution_count": 29,
   "metadata": {},
   "outputs": [
    {
     "ename": "SyntaxError",
     "evalue": "invalid character in identifier (<ipython-input-29-d0607c658950>, line 1)",
     "output_type": "error",
     "traceback": [
      "\u001b[1;36m  File \u001b[1;32m\"<ipython-input-29-d0607c658950>\"\u001b[1;36m, line \u001b[1;32m1\u001b[0m\n\u001b[1;33m    Pandas索引的運用！ https://ithelp.ithome.com.tw/articles/10194006\u001b[0m\n\u001b[1;37m               ^\u001b[0m\n\u001b[1;31mSyntaxError\u001b[0m\u001b[1;31m:\u001b[0m invalid character in identifier\n"
     ]
    }
   ],
   "source": [
    "Pandas索引的運用！ https://ithelp.ithome.com.tw/articles/10194006\n",
    "    \n",
    "#df = pd.DataFrame(data, columns =['Team', 'Age', 'Score']) \n",
    "#print(df)\n",
    "#a = df.pivot('Team','Age', 'Score') \n",
    "#print(a)     \n",
    "    \n",
    "#df4.head()\n",
    "#print(df4.columns)\n",
    "#df4.iloc[260:261]\n",
    "#df4[data]\n",
    "#df4.index\n",
    "#df4.index.name = \"\"\n",
    "#df4.set_index(\"date\" , inplace=True)\n",
    "\n",
    "# df4[\"陳時中\"] = df4[\"陳時中\"].replace(0,99) # 不是字串,不用.str\n",
    "\n",
    "#print(len(df4.iloc[ : ]))\n",
    "\n",
    "# 匯成JSON檔案\n",
    "#preload = json.loads(df4.to_json(orient='table'))\n",
    "#print(json.dumps(preload, ensure_ascii=False))\n",
    "\n",
    "\n",
    "## 輸出CSV\n",
    "#print(len(pList))\n",
    "#print(pList_df)\n",
    "#df4.to_csv(path_or_buf='C:/Users/MichaelCHEN/Desktop/csvfile2')"
   ]
  },
  {
   "cell_type": "markdown",
   "metadata": {},
   "source": [
    "`The SyntaxError: unexpected EOF while parsing means that the end of your source code was reached before all code blocks were completed. A code block starts with a statement like for i in range(100): and requires at least one line afterwards that contains code that should be in it.\n",
    "\n",
    "It seems like you were executing your program line by line in the ipython console. This works for single statements like a = 3 but not for code blocks like for loops. See the following example:`"
   ]
  },
  {
   "cell_type": "code",
   "execution_count": null,
   "metadata": {},
   "outputs": [],
   "source": [
    "#df4_one_df = pd.DataFrame(df4_date[0]) \n",
    "#DataFrame constructor not properly called!\n",
    "\n",
    "https://stackoverflow.com/questions/25604115/dataframe-constructor-not-properly-called-error"
   ]
  },
  {
   "cell_type": "code",
   "execution_count": null,
   "metadata": {},
   "outputs": [],
   "source": [
    "df4_date_df = pd.DataFrame(eval(df4_date))\n",
    "#eval() arg 1 must be a string, bytes or code object"
   ]
  },
  {
   "cell_type": "markdown",
   "metadata": {},
   "source": [
    "https://stackoverflow.com/questions/19480028/attributeerror-datetime-module-has-no-attribute-strptime\n",
    "    \n",
    "    \n",
    "353\n",
    "\n",
    "`If I had to guess, you did this:`\n",
    "\n",
    "import datetime\n",
    "`at the top of your code. This means that you have to do this:`\n",
    "\n",
    "datetime.datetime.strptime(date, \"%Y-%m-%d\")\n",
    "`to access the strptime method. Or, you could change the import statement to this:`\n",
    "\n",
    "`from datetime import datetime\n",
    "and access it as you are.`    "
   ]
  },
  {
   "cell_type": "code",
   "execution_count": null,
   "metadata": {},
   "outputs": [],
   "source": [
    "https://www.programiz.com/python-programming/datetime/strftime"
   ]
  },
  {
   "cell_type": "code",
   "execution_count": null,
   "metadata": {},
   "outputs": [],
   "source": [
    "https://www.itread01.com/content/1550524862.html"
   ]
  }
 ],
 "metadata": {
  "kernelspec": {
   "display_name": "Python 3.7.5 64-bit",
   "language": "python",
   "name": "python37564bit14a35242e66642798e1bd2b036fbac02"
  },
  "language_info": {
   "codemirror_mode": {
    "name": "ipython",
    "version": 3
   },
   "file_extension": ".py",
   "mimetype": "text/x-python",
   "name": "python",
   "nbconvert_exporter": "python",
   "pygments_lexer": "ipython3",
   "version": "3.7.5"
  }
 },
 "nbformat": 4,
 "nbformat_minor": 4
}
